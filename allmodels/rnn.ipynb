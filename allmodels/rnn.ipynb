{
 "cells": [
  {
   "cell_type": "code",
   "execution_count": 2,
   "id": "ace9fb95",
   "metadata": {},
   "outputs": [
    {
     "name": "stdout",
     "output_type": "stream",
     "text": [
      "Collecting wordcloud\n",
      "  Obtaining dependency information for wordcloud from https://files.pythonhosted.org/packages/f5/b0/247159f61c5d5d6647171bef84430b7efad4db504f0229674024f3a4f7f2/wordcloud-1.9.3-cp311-cp311-win_amd64.whl.metadata\n",
      "  Downloading wordcloud-1.9.3-cp311-cp311-win_amd64.whl.metadata (3.5 kB)\n",
      "Requirement already satisfied: numpy>=1.6.1 in c:\\users\\niyat\\anaconda3\\lib\\site-packages (from wordcloud) (1.24.3)\n",
      "Requirement already satisfied: pillow in c:\\users\\niyat\\anaconda3\\lib\\site-packages (from wordcloud) (9.4.0)\n",
      "Requirement already satisfied: matplotlib in c:\\users\\niyat\\anaconda3\\lib\\site-packages (from wordcloud) (3.7.2)\n",
      "Requirement already satisfied: contourpy>=1.0.1 in c:\\users\\niyat\\anaconda3\\lib\\site-packages (from matplotlib->wordcloud) (1.0.5)\n",
      "Requirement already satisfied: cycler>=0.10 in c:\\users\\niyat\\anaconda3\\lib\\site-packages (from matplotlib->wordcloud) (0.11.0)\n",
      "Requirement already satisfied: fonttools>=4.22.0 in c:\\users\\niyat\\anaconda3\\lib\\site-packages (from matplotlib->wordcloud) (4.25.0)\n",
      "Requirement already satisfied: kiwisolver>=1.0.1 in c:\\users\\niyat\\anaconda3\\lib\\site-packages (from matplotlib->wordcloud) (1.4.4)\n",
      "Requirement already satisfied: packaging>=20.0 in c:\\users\\niyat\\anaconda3\\lib\\site-packages (from matplotlib->wordcloud) (23.1)\n",
      "Requirement already satisfied: pyparsing<3.1,>=2.3.1 in c:\\users\\niyat\\anaconda3\\lib\\site-packages (from matplotlib->wordcloud) (3.0.9)\n",
      "Requirement already satisfied: python-dateutil>=2.7 in c:\\users\\niyat\\anaconda3\\lib\\site-packages (from matplotlib->wordcloud) (2.8.2)\n",
      "Requirement already satisfied: six>=1.5 in c:\\users\\niyat\\anaconda3\\lib\\site-packages (from python-dateutil>=2.7->matplotlib->wordcloud) (1.16.0)\n",
      "Downloading wordcloud-1.9.3-cp311-cp311-win_amd64.whl (300 kB)\n",
      "   ---------------------------------------- 0.0/300.2 kB ? eta -:--:--\n",
      "   ---------------------------------------- 0.0/300.2 kB ? eta -:--:--\n",
      "   ---------------------------------------- 0.0/300.2 kB ? eta -:--:--\n",
      "   - -------------------------------------- 10.2/300.2 kB ? eta -:--:--\n",
      "   - -------------------------------------- 10.2/300.2 kB ? eta -:--:--\n",
      "   - -------------------------------------- 10.2/300.2 kB ? eta -:--:--\n",
      "   - -------------------------------------- 10.2/300.2 kB ? eta -:--:--\n",
      "   - -------------------------------------- 10.2/300.2 kB ? eta -:--:--\n",
      "   - -------------------------------------- 10.2/300.2 kB ? eta -:--:--\n",
      "   -- ------------------------------------- 20.5/300.2 kB 36.3 kB/s eta 0:00:08\n",
      "   ---- ----------------------------------- 30.7/300.2 kB 62.4 kB/s eta 0:00:05\n",
      "   ---- ----------------------------------- 30.7/300.2 kB 62.4 kB/s eta 0:00:05\n",
      "   ---- ----------------------------------- 30.7/300.2 kB 62.4 kB/s eta 0:00:05\n",
      "   ------- ------------------------------- 61.4/300.2 kB 109.2 kB/s eta 0:00:03\n",
      "   ------- ------------------------------- 61.4/300.2 kB 109.2 kB/s eta 0:00:03\n",
      "   ------- ------------------------------- 61.4/300.2 kB 109.2 kB/s eta 0:00:03\n",
      "   ---------- ---------------------------- 81.9/300.2 kB 117.5 kB/s eta 0:00:02\n",
      "   ---------- ---------------------------- 81.9/300.2 kB 117.5 kB/s eta 0:00:02\n",
      "   ---------- ---------------------------- 81.9/300.2 kB 117.5 kB/s eta 0:00:02\n",
      "   ---------- ---------------------------- 81.9/300.2 kB 117.5 kB/s eta 0:00:02\n",
      "   ----------- --------------------------- 92.2/300.2 kB 102.8 kB/s eta 0:00:03\n",
      "   ----------- --------------------------- 92.2/300.2 kB 102.8 kB/s eta 0:00:03\n",
      "   ----------- --------------------------- 92.2/300.2 kB 102.8 kB/s eta 0:00:03\n",
      "   ----------- --------------------------- 92.2/300.2 kB 102.8 kB/s eta 0:00:03\n",
      "   ----------- --------------------------- 92.2/300.2 kB 102.8 kB/s eta 0:00:03\n",
      "   -------------- ------------------------ 112.6/300.2 kB 99.2 kB/s eta 0:00:02\n",
      "   -------------- ------------------------ 112.6/300.2 kB 99.2 kB/s eta 0:00:02\n",
      "   -------------- ------------------------ 112.6/300.2 kB 99.2 kB/s eta 0:00:02\n",
      "   -------------- ------------------------ 112.6/300.2 kB 99.2 kB/s eta 0:00:02\n",
      "   -------------- ------------------------ 112.6/300.2 kB 99.2 kB/s eta 0:00:02\n",
      "   -------------- ------------------------ 112.6/300.2 kB 99.2 kB/s eta 0:00:02\n",
      "   -------------- ------------------------ 112.6/300.2 kB 99.2 kB/s eta 0:00:02\n",
      "   -------------- ------------------------ 112.6/300.2 kB 99.2 kB/s eta 0:00:02\n",
      "   -------------- ------------------------ 112.6/300.2 kB 99.2 kB/s eta 0:00:02\n",
      "   -------------- ------------------------ 112.6/300.2 kB 99.2 kB/s eta 0:00:02\n",
      "   --------------- ----------------------- 122.9/300.2 kB 75.1 kB/s eta 0:00:03\n",
      "   --------------- ----------------------- 122.9/300.2 kB 75.1 kB/s eta 0:00:03\n",
      "   --------------- ----------------------- 122.9/300.2 kB 75.1 kB/s eta 0:00:03\n",
      "   --------------- ----------------------- 122.9/300.2 kB 75.1 kB/s eta 0:00:03\n",
      "   --------------- ----------------------- 122.9/300.2 kB 75.1 kB/s eta 0:00:03\n",
      "   --------------- ----------------------- 122.9/300.2 kB 75.1 kB/s eta 0:00:03\n",
      "   --------------- ----------------------- 122.9/300.2 kB 75.1 kB/s eta 0:00:03\n",
      "   --------------- ----------------------- 122.9/300.2 kB 75.1 kB/s eta 0:00:03\n",
      "   ------------------ -------------------- 143.4/300.2 kB 70.4 kB/s eta 0:00:03\n",
      "   ------------------ -------------------- 143.4/300.2 kB 70.4 kB/s eta 0:00:03\n",
      "   ------------------ -------------------- 143.4/300.2 kB 70.4 kB/s eta 0:00:03\n",
      "   ------------------ -------------------- 143.4/300.2 kB 70.4 kB/s eta 0:00:03\n",
      "   ------------------ -------------------- 143.4/300.2 kB 70.4 kB/s eta 0:00:03\n",
      "   ------------------ -------------------- 143.4/300.2 kB 70.4 kB/s eta 0:00:03\n",
      "   ------------------ -------------------- 143.4/300.2 kB 70.4 kB/s eta 0:00:03\n",
      "   ------------------ -------------------- 143.4/300.2 kB 70.4 kB/s eta 0:00:03\n",
      "   ------------------ -------------------- 143.4/300.2 kB 70.4 kB/s eta 0:00:03\n",
      "   --------------------- ----------------- 163.8/300.2 kB 66.9 kB/s eta 0:00:03\n",
      "   --------------------- ----------------- 163.8/300.2 kB 66.9 kB/s eta 0:00:03\n",
      "   --------------------- ----------------- 163.8/300.2 kB 66.9 kB/s eta 0:00:03\n",
      "   --------------------- ----------------- 163.8/300.2 kB 66.9 kB/s eta 0:00:03\n",
      "   --------------------- ----------------- 163.8/300.2 kB 66.9 kB/s eta 0:00:03\n",
      "   --------------------- ----------------- 163.8/300.2 kB 66.9 kB/s eta 0:00:03\n",
      "   ---------------------- ---------------- 174.1/300.2 kB 62.8 kB/s eta 0:00:03\n",
      "   ---------------------- ---------------- 174.1/300.2 kB 62.8 kB/s eta 0:00:03\n",
      "   ---------------------- ---------------- 174.1/300.2 kB 62.8 kB/s eta 0:00:03\n",
      "   ---------------------- ---------------- 174.1/300.2 kB 62.8 kB/s eta 0:00:03\n",
      "   ---------------------- ---------------- 174.1/300.2 kB 62.8 kB/s eta 0:00:03\n",
      "   ---------------------- ---------------- 174.1/300.2 kB 62.8 kB/s eta 0:00:03\n",
      "   ---------------------- ---------------- 174.1/300.2 kB 62.8 kB/s eta 0:00:03\n",
      "   ---------------------- ---------------- 174.1/300.2 kB 62.8 kB/s eta 0:00:03\n",
      "   ---------------------- ---------------- 174.1/300.2 kB 62.8 kB/s eta 0:00:03\n",
      "   ---------------------- ---------------- 174.1/300.2 kB 62.8 kB/s eta 0:00:03\n",
      "   ---------------------- ---------------- 174.1/300.2 kB 62.8 kB/s eta 0:00:03\n",
      "   ---------------------- ---------------- 174.1/300.2 kB 62.8 kB/s eta 0:00:03\n",
      "   ---------------------- ---------------- 174.1/300.2 kB 62.8 kB/s eta 0:00:03\n",
      "   ---------------------- ---------------- 174.1/300.2 kB 62.8 kB/s eta 0:00:03\n",
      "   ---------------------- ---------------- 174.1/300.2 kB 62.8 kB/s eta 0:00:03\n",
      "   ------------------------- ------------- 194.6/300.2 kB 55.6 kB/s eta 0:00:02\n",
      "   ------------------------- ------------- 194.6/300.2 kB 55.6 kB/s eta 0:00:02\n",
      "   ------------------------- ------------- 194.6/300.2 kB 55.6 kB/s eta 0:00:02\n",
      "   ------------------------- ------------- 194.6/300.2 kB 55.6 kB/s eta 0:00:02\n",
      "   ------------------------- ------------- 194.6/300.2 kB 55.6 kB/s eta 0:00:02\n",
      "   ------------------------- ------------- 194.6/300.2 kB 55.6 kB/s eta 0:00:02\n",
      "   ------------------------- ------------- 194.6/300.2 kB 55.6 kB/s eta 0:00:02\n",
      "   ------------------------- ------------- 194.6/300.2 kB 55.6 kB/s eta 0:00:02\n",
      "   ------------------------- ------------- 194.6/300.2 kB 55.6 kB/s eta 0:00:02\n",
      "   ------------------------- ------------- 194.6/300.2 kB 55.6 kB/s eta 0:00:02\n",
      "   ------------------------- ------------- 194.6/300.2 kB 55.6 kB/s eta 0:00:02\n",
      "   ------------------------- ------------- 194.6/300.2 kB 55.6 kB/s eta 0:00:02\n",
      "   -------------------------- ------------ 204.8/300.2 kB 50.2 kB/s eta 0:00:02\n",
      "   -------------------------- ------------ 204.8/300.2 kB 50.2 kB/s eta 0:00:02\n",
      "   -------------------------- ------------ 204.8/300.2 kB 50.2 kB/s eta 0:00:02\n",
      "   -------------------------- ------------ 204.8/300.2 kB 50.2 kB/s eta 0:00:02\n",
      "   -------------------------- ------------ 204.8/300.2 kB 50.2 kB/s eta 0:00:02\n",
      "   -------------------------- ------------ 204.8/300.2 kB 50.2 kB/s eta 0:00:02\n",
      "   -------------------------- ------------ 204.8/300.2 kB 50.2 kB/s eta 0:00:02\n",
      "   -------------------------- ------------ 204.8/300.2 kB 50.2 kB/s eta 0:00:02\n",
      "   -------------------------- ------------ 204.8/300.2 kB 50.2 kB/s eta 0:00:02\n",
      "   -------------------------- ------------ 204.8/300.2 kB 50.2 kB/s eta 0:00:02\n",
      "   -------------------------- ------------ 204.8/300.2 kB 50.2 kB/s eta 0:00:02\n",
      "   -------------------------- ------------ 204.8/300.2 kB 50.2 kB/s eta 0:00:02\n",
      "   -------------------------- ------------ 204.8/300.2 kB 50.2 kB/s eta 0:00:02\n",
      "   -------------------------- ------------ 204.8/300.2 kB 50.2 kB/s eta 0:00:02\n",
      "   -------------------------- ------------ 204.8/300.2 kB 50.2 kB/s eta 0:00:02\n",
      "   -------------------------- ------------ 204.8/300.2 kB 50.2 kB/s eta 0:00:02\n",
      "   ----------------------------- --------- 225.3/300.2 kB 46.2 kB/s eta 0:00:02\n",
      "   ----------------------------- --------- 225.3/300.2 kB 46.2 kB/s eta 0:00:02\n",
      "   ----------------------------- --------- 225.3/300.2 kB 46.2 kB/s eta 0:00:02\n",
      "   ----------------------------- --------- 225.3/300.2 kB 46.2 kB/s eta 0:00:02\n",
      "   ------------------------------- ------- 245.8/300.2 kB 48.5 kB/s eta 0:00:02\n",
      "   ------------------------------- ------- 245.8/300.2 kB 48.5 kB/s eta 0:00:02\n",
      "   ------------------------------- ------- 245.8/300.2 kB 48.5 kB/s eta 0:00:02\n",
      "   ------------------------------- ------- 245.8/300.2 kB 48.5 kB/s eta 0:00:02\n",
      "   ------------------------------- ------- 245.8/300.2 kB 48.5 kB/s eta 0:00:02\n",
      "   ------------------------------- ------- 245.8/300.2 kB 48.5 kB/s eta 0:00:02\n",
      "   ------------------------------- ------- 245.8/300.2 kB 48.5 kB/s eta 0:00:02\n",
      "   ------------------------------- ------- 245.8/300.2 kB 48.5 kB/s eta 0:00:02\n",
      "   --------------------------------- ----- 256.0/300.2 kB 47.1 kB/s eta 0:00:01\n",
      "   --------------------------------- ----- 256.0/300.2 kB 47.1 kB/s eta 0:00:01\n",
      "   --------------------------------- ----- 256.0/300.2 kB 47.1 kB/s eta 0:00:01\n",
      "   --------------------------------- ----- 256.0/300.2 kB 47.1 kB/s eta 0:00:01\n",
      "   --------------------------------- ----- 256.0/300.2 kB 47.1 kB/s eta 0:00:01\n",
      "   --------------------------------- ----- 256.0/300.2 kB 47.1 kB/s eta 0:00:01\n",
      "   --------------------------------- ----- 256.0/300.2 kB 47.1 kB/s eta 0:00:01\n",
      "   --------------------------------- ----- 256.0/300.2 kB 47.1 kB/s eta 0:00:01\n",
      "   --------------------------------- ----- 256.0/300.2 kB 47.1 kB/s eta 0:00:01\n",
      "   --------------------------------- ----- 256.0/300.2 kB 47.1 kB/s eta 0:00:01\n",
      "   --------------------------------- ----- 256.0/300.2 kB 47.1 kB/s eta 0:00:01\n",
      "   ----------------------------------- --- 276.5/300.2 kB 46.4 kB/s eta 0:00:01\n",
      "   ----------------------------------- --- 276.5/300.2 kB 46.4 kB/s eta 0:00:01\n",
      "   ----------------------------------- --- 276.5/300.2 kB 46.4 kB/s eta 0:00:01\n",
      "   ----------------------------------- --- 276.5/300.2 kB 46.4 kB/s eta 0:00:01\n",
      "   ----------------------------------- --- 276.5/300.2 kB 46.4 kB/s eta 0:00:01\n",
      "   ----------------------------------- --- 276.5/300.2 kB 46.4 kB/s eta 0:00:01\n",
      "   ----------------------------------- --- 276.5/300.2 kB 46.4 kB/s eta 0:00:01\n",
      "   ----------------------------------- --- 276.5/300.2 kB 46.4 kB/s eta 0:00:01\n",
      "   ----------------------------------- --- 276.5/300.2 kB 46.4 kB/s eta 0:00:01\n",
      "   ------------------------------------- - 286.7/300.2 kB 44.8 kB/s eta 0:00:01\n",
      "   ------------------------------------- - 286.7/300.2 kB 44.8 kB/s eta 0:00:01\n",
      "   ------------------------------------- - 286.7/300.2 kB 44.8 kB/s eta 0:00:01\n",
      "   --------------------------------------- 300.2/300.2 kB 45.9 kB/s eta 0:00:00\n",
      "Installing collected packages: wordcloud\n",
      "Successfully installed wordcloud-1.9.3\n",
      "Note: you may need to restart the kernel to use updated packages.\n"
     ]
    },
    {
     "name": "stderr",
     "output_type": "stream",
     "text": [
      "  WARNING: Retrying (Retry(total=4, connect=None, read=None, redirect=None, status=None)) after connection broken by 'ConnectTimeoutError(<pip._vendor.urllib3.connection.HTTPSConnection object at 0x000001CA31517B50>, 'Connection to files.pythonhosted.org timed out. (connect timeout=15)')': /packages/f5/b0/247159f61c5d5d6647171bef84430b7efad4db504f0229674024f3a4f7f2/wordcloud-1.9.3-cp311-cp311-win_amd64.whl.metadata\n"
     ]
    }
   ],
   "source": [
    "pip install wordcloud"
   ]
  },
  {
   "cell_type": "code",
   "execution_count": 3,
   "id": "00688544",
   "metadata": {},
   "outputs": [],
   "source": [
    "import numpy as np\n",
    "import pandas as pd\n",
    "from sklearn.metrics import confusion_matrix\n",
    "import matplotlib.pyplot as plt\n",
    "import seaborn as sns\n",
    "from wordcloud import WordCloud\n",
    "from tensorflow.keras.models import Sequential\n",
    "from tensorflow.keras.layers import Dense, Embedding, Flatten\n",
    "from tensorflow.keras.preprocessing.text import Tokenizer\n",
    "from tensorflow.keras.preprocessing.sequence import pad_sequences\n",
    "from sklearn.model_selection import train_test_split\n",
    "from tensorflow.keras.callbacks import EarlyStopping\n",
    "from keras.utils import to_categorical"
   ]
  },
  {
   "cell_type": "code",
   "execution_count": 4,
   "id": "bc2e75bd",
   "metadata": {},
   "outputs": [],
   "source": [
    "df = pd.read_csv(\"C:/Users/niyat/Desktop/pre-processed.csv\",header = 'infer') \n"
   ]
  },
  {
   "cell_type": "code",
   "execution_count": 5,
   "id": "11fa3572",
   "metadata": {},
   "outputs": [
    {
     "data": {
      "text/html": [
       "<div>\n",
       "<style scoped>\n",
       "    .dataframe tbody tr th:only-of-type {\n",
       "        vertical-align: middle;\n",
       "    }\n",
       "\n",
       "    .dataframe tbody tr th {\n",
       "        vertical-align: top;\n",
       "    }\n",
       "\n",
       "    .dataframe thead th {\n",
       "        text-align: right;\n",
       "    }\n",
       "</style>\n",
       "<table border=\"1\" class=\"dataframe\">\n",
       "  <thead>\n",
       "    <tr style=\"text-align: right;\">\n",
       "      <th></th>\n",
       "      <th>tweets</th>\n",
       "      <th>ClassLabel</th>\n",
       "    </tr>\n",
       "  </thead>\n",
       "  <tbody>\n",
       "    <tr>\n",
       "      <th>0</th>\n",
       "      <td>a a woman you shouldnt complain about cleaning...</td>\n",
       "      <td>2</td>\n",
       "    </tr>\n",
       "    <tr>\n",
       "      <th>1</th>\n",
       "      <td>rtboydatscoldtygadwnbad for cuffindathoeinthe1...</td>\n",
       "      <td>1</td>\n",
       "    </tr>\n",
       "    <tr>\n",
       "      <th>2</th>\n",
       "      <td>dawg you ever fuck a bitch and she start to cr...</td>\n",
       "      <td>1</td>\n",
       "    </tr>\n",
       "    <tr>\n",
       "      <th>3</th>\n",
       "      <td>she look like a tranny</td>\n",
       "      <td>1</td>\n",
       "    </tr>\n",
       "    <tr>\n",
       "      <th>4</th>\n",
       "      <td>the shit you hear about me might be true or it...</td>\n",
       "      <td>1</td>\n",
       "    </tr>\n",
       "  </tbody>\n",
       "</table>\n",
       "</div>"
      ],
      "text/plain": [
       "                                              tweets  ClassLabel\n",
       "0  a a woman you shouldnt complain about cleaning...           2\n",
       "1  rtboydatscoldtygadwnbad for cuffindathoeinthe1...           1\n",
       "2  dawg you ever fuck a bitch and she start to cr...           1\n",
       "3                             she look like a tranny           1\n",
       "4  the shit you hear about me might be true or it...           1"
      ]
     },
     "execution_count": 5,
     "metadata": {},
     "output_type": "execute_result"
    }
   ],
   "source": [
    "df.head()\n"
   ]
  },
  {
   "cell_type": "code",
   "execution_count": 6,
   "id": "e44385ed",
   "metadata": {},
   "outputs": [],
   "source": [
    "ClassLabel = df['ClassLabel']\n",
    "tweets = df.tweets"
   ]
  },
  {
   "cell_type": "code",
   "execution_count": 7,
   "id": "678acfa6",
   "metadata": {},
   "outputs": [],
   "source": [
    "tokenizer = Tokenizer()\n"
   ]
  },
  {
   "cell_type": "code",
   "execution_count": 8,
   "id": "4233e3d9",
   "metadata": {},
   "outputs": [],
   "source": [
    "tokenizer.fit_on_texts(tweets)\n",
    "sequences = tokenizer.texts_to_sequences(tweets)\n"
   ]
  },
  {
   "cell_type": "code",
   "execution_count": 9,
   "id": "5d33a8dc",
   "metadata": {},
   "outputs": [
    {
     "data": {
      "text/plain": [
       "array([[    0,     0,     0, ...,     3,    48,    45],\n",
       "       [    0,     0,     0, ...,    22,  8922,   487],\n",
       "       [    0,     0,     0, ...,  1018,     2,    46],\n",
       "       ...,\n",
       "       [    0,     0,     0, ...,    12,    30,   281],\n",
       "       [    0,     0,     0, ...,  5087,     5,   537],\n",
       "       [    0,     0,     0, ...,   182,   112, 19796]])"
      ]
     },
     "execution_count": 9,
     "metadata": {},
     "output_type": "execute_result"
    }
   ],
   "source": [
    "max_sequence_length = max([len(seq) for seq in sequences])\n",
    "padded_sequences = pad_sequences(sequences, maxlen=max_sequence_length)\n",
    "padded_sequences"
   ]
  },
  {
   "cell_type": "code",
   "execution_count": 10,
   "id": "ef453080",
   "metadata": {},
   "outputs": [],
   "source": [
    "X_train, X_test, y_train, y_test = train_test_split(padded_sequences, ClassLabel, test_size=0.2, random_state=110123184)\n",
    "X_train, X_val, y_train, y_val = train_test_split(X_train, y_train, test_size=0.3, random_state=110123184)\n",
    "\n",
    "y_train = to_categorical(y_train)\n",
    "y_val = to_categorical(y_val)"
   ]
  },
  {
   "cell_type": "code",
   "execution_count": 11,
   "id": "26c05b83",
   "metadata": {},
   "outputs": [
    {
     "name": "stderr",
     "output_type": "stream",
     "text": [
      "C:\\Users\\niyat\\anaconda3\\Lib\\site-packages\\keras\\src\\layers\\core\\embedding.py:86: UserWarning: Argument `input_length` is deprecated. Just remove it.\n",
      "  warnings.warn(\n"
     ]
    }
   ],
   "source": [
    "model = Sequential()\n",
    "model.add(Embedding(input_dim=len(tokenizer.word_index) + 1, output_dim=32, input_length=max_sequence_length))\n",
    "model.add(Flatten())\n",
    "model.add(Dense(3, activation='sigmoid'))"
   ]
  },
  {
   "cell_type": "code",
   "execution_count": 12,
   "id": "cf2c2b0e",
   "metadata": {},
   "outputs": [],
   "source": [
    "model.compile(loss='binary_crossentropy', optimizer='adam', metrics=['accuracy'])\n"
   ]
  },
  {
   "cell_type": "code",
   "execution_count": 13,
   "id": "b60245e2",
   "metadata": {},
   "outputs": [
    {
     "name": "stdout",
     "output_type": "stream",
     "text": [
      "Epoch 1/50\n",
      "\u001b[1m434/434\u001b[0m \u001b[32m━━━━━━━━━━━━━━━━━━━━\u001b[0m\u001b[37m\u001b[0m \u001b[1m4s\u001b[0m 6ms/step - accuracy: 0.7631 - loss: 0.4183 - val_accuracy: 0.8373 - val_loss: 0.2556\n",
      "Epoch 2/50\n",
      "\u001b[1m434/434\u001b[0m \u001b[32m━━━━━━━━━━━━━━━━━━━━\u001b[0m\u001b[37m\u001b[0m \u001b[1m2s\u001b[0m 5ms/step - accuracy: 0.8847 - loss: 0.2165 - val_accuracy: 0.8744 - val_loss: 0.2224\n",
      "Epoch 3/50\n",
      "\u001b[1m434/434\u001b[0m \u001b[32m━━━━━━━━━━━━━━━━━━━━\u001b[0m\u001b[37m\u001b[0m \u001b[1m2s\u001b[0m 5ms/step - accuracy: 0.9147 - loss: 0.1715 - val_accuracy: 0.8744 - val_loss: 0.2189\n",
      "Epoch 4/50\n",
      "\u001b[1m434/434\u001b[0m \u001b[32m━━━━━━━━━━━━━━━━━━━━\u001b[0m\u001b[37m\u001b[0m \u001b[1m2s\u001b[0m 5ms/step - accuracy: 0.9426 - loss: 0.1242 - val_accuracy: 0.8717 - val_loss: 0.2189\n",
      "Epoch 5/50\n",
      "\u001b[1m434/434\u001b[0m \u001b[32m━━━━━━━━━━━━━━━━━━━━\u001b[0m\u001b[37m\u001b[0m \u001b[1m2s\u001b[0m 5ms/step - accuracy: 0.9589 - loss: 0.0987 - val_accuracy: 0.8699 - val_loss: 0.2300\n",
      "Epoch 6/50\n",
      "\u001b[1m434/434\u001b[0m \u001b[32m━━━━━━━━━━━━━━━━━━━━\u001b[0m\u001b[37m\u001b[0m \u001b[1m2s\u001b[0m 5ms/step - accuracy: 0.9698 - loss: 0.0760 - val_accuracy: 0.8670 - val_loss: 0.2385\n",
      "Epoch 7/50\n",
      "\u001b[1m434/434\u001b[0m \u001b[32m━━━━━━━━━━━━━━━━━━━━\u001b[0m\u001b[37m\u001b[0m \u001b[1m2s\u001b[0m 5ms/step - accuracy: 0.9789 - loss: 0.0595 - val_accuracy: 0.8640 - val_loss: 0.2508\n",
      "Epoch 7: early stopping\n"
     ]
    }
   ],
   "source": [
    "early_stopping = EarlyStopping(monitor='val_loss', patience=3, verbose=1, mode='min')\n",
    "history = model.fit(X_train, y_train, epochs=50, batch_size=32, validation_data=(X_val, y_val), callbacks=[early_stopping])\n"
   ]
  },
  {
   "cell_type": "code",
   "execution_count": 14,
   "id": "74205d05",
   "metadata": {},
   "outputs": [
    {
     "name": "stdout",
     "output_type": "stream",
     "text": [
      "\u001b[1m155/155\u001b[0m \u001b[32m━━━━━━━━━━━━━━━━━━━━\u001b[0m\u001b[37m\u001b[0m \u001b[1m0s\u001b[0m 2ms/step\n",
      "              precision    recall  f1-score   support\n",
      "\n",
      "           0       0.49      0.18      0.27       292\n",
      "           1       0.90      0.95      0.92      3851\n",
      "           2       0.77      0.72      0.74       814\n",
      "\n",
      "    accuracy                           0.87      4957\n",
      "   macro avg       0.72      0.62      0.64      4957\n",
      "weighted avg       0.85      0.87      0.86      4957\n",
      "\n"
     ]
    }
   ],
   "source": [
    "from sklearn.metrics import classification_report\n",
    "y_pred = np.argmax(model.predict(X_test), axis=1)\n",
    "y_test = y_test.T\n",
    "print(classification_report(y_test, y_pred))\n"
   ]
  },
  {
   "cell_type": "code",
   "execution_count": 15,
   "id": "1adac635",
   "metadata": {},
   "outputs": [
    {
     "data": {
      "image/png": "[encoded data removed]",
      "text/plain": [
       "<Figure size 640x480 with 1 Axes>"
      ]
     },
     "metadata": {},
     "output_type": "display_data"
    }
   ],
   "source": [
    "plt.plot(history.history['accuracy'], label='Training Accuracy')\n",
    "\n",
    "\n",
    "if 'val_accuracy' in history.history:\n",
    "    plt.plot(history.history['val_accuracy'], label='Validation Accuracy')\n",
    "\n",
    "plt.xlabel('Epoch')\n",
    "plt.ylabel('Accuracy')\n",
    "plt.title('Training and Validation Accuracy')\n",
    "plt.legend()\n",
    "plt.show()\n"
   ]
  },
  {
   "cell_type": "code",
   "execution_count": null,
   "id": "12c23ddb",
   "metadata": {},
   "outputs": [],
   "source": []
  }
 ],
 "metadata": {
  "kernelspec": {
   "display_name": "Python 3 (ipykernel)",
   "language": "python",
   "name": "python3"
  },
  "language_info": {
   "codemirror_mode": {
    "name": "ipython",
    "version": 3
   },
   "file_extension": ".py",
   "mimetype": "text/x-python",
   "name": "python",
   "nbconvert_exporter": "python",
   "pygments_lexer": "ipython3",
   "version": "3.11.5"
  }
 },
 "nbformat": 4,
 "nbformat_minor": 5
}
